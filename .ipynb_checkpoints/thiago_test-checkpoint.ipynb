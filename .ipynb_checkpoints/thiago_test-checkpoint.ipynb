{
 "cells": [
  {
   "cell_type": "code",
   "execution_count": 1,
   "id": "c905214d",
   "metadata": {},
   "outputs": [],
   "source": [
    "from polygon import Polygon\n",
    "from ear_clipping import Ear_clipping\n",
    "from coloring import Coloring\n",
    "from IPython.display import display, HTML\n",
    "import html_generator"
   ]
  },
  {
   "cell_type": "code",
   "execution_count": 2,
   "id": "ac45adb5",
   "metadata": {},
   "outputs": [],
   "source": [
    "height = 500\n",
    "width = 500"
   ]
  },
  {
   "cell_type": "code",
   "execution_count": 3,
   "id": "0acd8b80",
   "metadata": {
    "scrolled": false
   },
   "outputs": [
    {
     "data": {
      "text/plain": [
       "<tpolygon.TPolygon at 0x7fe22861e2b0>"
      ]
     },
     "execution_count": 3,
     "metadata": {},
     "output_type": "execute_result"
    }
   ],
   "source": [
    "poly = Polygon()\n",
    "# poly.read_from_pol('instances/agp2008b-simplerand/simple-100-1.pol')\n",
    "poly.read_from_pol('instances/agp2007-minarea/min-8-1.pol')\n",
    "\n",
    "ear_clipping = Ear_clipping(poly, height, width)\n",
    "ear_clipping.triangulation()"
   ]
  },
  {
   "cell_type": "code",
   "execution_count": 4,
   "id": "7fe7ea3c",
   "metadata": {
    "scrolled": true
   },
   "outputs": [
    {
     "ename": "AttributeError",
     "evalue": "'Ear_clipping' object has no attribute 'generate_html'",
     "output_type": "error",
     "traceback": [
      "\u001b[0;31m---------------------------------------------------------------------------\u001b[0m",
      "\u001b[0;31mAttributeError\u001b[0m                            Traceback (most recent call last)",
      "Cell \u001b[0;32mIn[4], line 1\u001b[0m\n\u001b[0;32m----> 1\u001b[0m html_string \u001b[38;5;241m=\u001b[39m \u001b[43mear_clipping\u001b[49m\u001b[38;5;241;43m.\u001b[39;49m\u001b[43mgenerate_html\u001b[49m()\n\u001b[1;32m      2\u001b[0m \u001b[38;5;28;01mwith\u001b[39;00m \u001b[38;5;28mopen\u001b[39m(\u001b[38;5;124m'\u001b[39m\u001b[38;5;124moutput.txt\u001b[39m\u001b[38;5;124m'\u001b[39m, \u001b[38;5;124m'\u001b[39m\u001b[38;5;124mw\u001b[39m\u001b[38;5;124m'\u001b[39m) \u001b[38;5;28;01mas\u001b[39;00m f:\n\u001b[1;32m      3\u001b[0m     \u001b[38;5;28mprint\u001b[39m(html_string, file\u001b[38;5;241m=\u001b[39mf)\n",
      "\u001b[0;31mAttributeError\u001b[0m: 'Ear_clipping' object has no attribute 'generate_html'"
     ]
    }
   ],
   "source": [
    "html_string = html_generator\n",
    "with open('output.txt', 'w') as f:\n",
    "    print(html_string, file=f)"
   ]
  },
  {
   "cell_type": "code",
   "execution_count": null,
   "id": "32c457bc",
   "metadata": {
    "scrolled": true
   },
   "outputs": [],
   "source": [
    "# print(html_string)"
   ]
  },
  {
   "cell_type": "code",
   "execution_count": null,
   "id": "9cf16f55",
   "metadata": {
    "scrolled": false
   },
   "outputs": [],
   "source": [
    "display(HTML(html_string))"
   ]
  },
  {
   "cell_type": "code",
   "execution_count": null,
   "id": "c469832d",
   "metadata": {},
   "outputs": [],
   "source": [
    "#triangulated_poly = ear_clipping.result()\n",
    "#coloring = Coloring(triangulated_poly, height, width)"
   ]
  },
  {
   "cell_type": "code",
   "execution_count": null,
   "id": "8a55b644",
   "metadata": {},
   "outputs": [],
   "source": [
    "from frame import clear_frames\n",
    "#clear_frames()"
   ]
  }
 ],
 "metadata": {
  "kernelspec": {
   "display_name": "Python 3 (ipykernel)",
   "language": "python",
   "name": "python3"
  },
  "language_info": {
   "codemirror_mode": {
    "name": "ipython",
    "version": 3
   },
   "file_extension": ".py",
   "mimetype": "text/x-python",
   "name": "python",
   "nbconvert_exporter": "python",
   "pygments_lexer": "ipython3",
   "version": "3.8.10"
  }
 },
 "nbformat": 4,
 "nbformat_minor": 5
}
