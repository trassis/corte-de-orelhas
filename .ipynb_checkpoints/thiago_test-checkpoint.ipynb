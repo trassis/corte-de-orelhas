{
 "cells": [
  {
   "cell_type": "code",
   "execution_count": 19,
   "id": "c905214d",
   "metadata": {},
   "outputs": [],
   "source": [
    "from polygon import Polygon\n",
    "from ear_clipping import Ear_clipping\n",
    "from coloring import Coloring\n",
    "from IPython.display import display, HTML"
   ]
  },
  {
   "cell_type": "code",
   "execution_count": null,
   "id": "52aaa4de",
   "metadata": {},
   "outputs": [],
   "source": [
    "height = 600\n",
    "width = 600"
   ]
  },
  {
   "cell_type": "code",
   "execution_count": 15,
   "id": "0acd8b80",
   "metadata": {
    "scrolled": true
   },
   "outputs": [],
   "source": [
    "poly = Polygon()\n",
    "poly.read_from_pol('instances/agp2008b-simplerand/simple-100-1.pol')\n",
    "# poly.read_from_pol('instances/agp2007-minarea/min-10-1.pol')\n",
    "\n",
    "ear_clipping = Ear_clipping(poly, height, widht)\n",
    "ear_clipping.triangulation()"
   ]
  },
  {
   "cell_type": "code",
   "execution_count": 16,
   "id": "32c457bc",
   "metadata": {
    "scrolled": false
   },
   "outputs": [],
   "source": [
    "html_string = ear_clipping.generate_html()\n",
    "with open('output.txt', 'w') as f:\n",
    "    print(html_string, file=f)\n",
    "# print(html_string)"
   ]
  },
  {
   "cell_type": "code",
   "execution_count": 18,
   "id": "9cf16f55",
   "metadata": {
    "scrolled": false
   },
   "outputs": [],
   "source": [
    "#display(HTML(html_string))"
   ]
  },
  {
   "cell_type": "code",
   "execution_count": null,
   "id": "2140b03e",
   "metadata": {},
   "outputs": [],
   "source": [
    "triangulated_poly = ear_clipping.result()\n",
    "coloring = Coloring(triangulated_poly, height, width)"
   ]
  },
  {
   "cell_type": "code",
   "execution_count": 7,
   "id": "8a55b644",
   "metadata": {},
   "outputs": [],
   "source": [
    "from frame import clear_frames\n",
    "#clear_frames()"
   ]
  }
 ],
 "metadata": {
  "kernelspec": {
   "display_name": "Python 3 (ipykernel)",
   "language": "python",
   "name": "python3"
  },
  "language_info": {
   "codemirror_mode": {
    "name": "ipython",
    "version": 3
   },
   "file_extension": ".py",
   "mimetype": "text/x-python",
   "name": "python",
   "nbconvert_exporter": "python",
   "pygments_lexer": "ipython3",
   "version": "3.8.10"
  }
 },
 "nbformat": 4,
 "nbformat_minor": 5
}
