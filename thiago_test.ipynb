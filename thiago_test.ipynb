{
 "cells": [
  {
   "cell_type": "code",
   "execution_count": 1,
   "id": "c905214d",
   "metadata": {},
   "outputs": [
    {
     "ename": "IndentationError",
     "evalue": "expected an indented block (polygon.py, line 4)",
     "output_type": "error",
     "traceback": [
      "Traceback \u001b[0;36m(most recent call last)\u001b[0m:\n",
      "\u001b[0m  File \u001b[1;32m~/.local/lib/python3.8/site-packages/IPython/core/interactiveshell.py:3508\u001b[0m in \u001b[1;35mrun_code\u001b[0m\n    exec(code_obj, self.user_global_ns, self.user_ns)\u001b[0m\n",
      "\u001b[0;36m  Cell \u001b[0;32mIn[1], line 1\u001b[0;36m\n\u001b[0;31m    from polygon import Polygon\u001b[0;36m\n",
      "\u001b[0;36m  File \u001b[0;32m~/ufmg/alg2/corte-de-orelhas/polygon.py:4\u001b[0;36m\u001b[0m\n\u001b[0;31m    <<<<<<< HEAD\u001b[0m\n\u001b[0m    ^\u001b[0m\n\u001b[0;31mIndentationError\u001b[0m\u001b[0;31m:\u001b[0m expected an indented block\n"
     ]
    }
   ],
   "source": [
    "from polygon import Polygon\n",
    "from ear_clipping import Ear_clipping\n",
    "# from coloring import Coloring\n",
    "from IPython.display import display, HTML\n",
    "import html_generator"
   ]
  },
  {
   "cell_type": "code",
   "execution_count": null,
   "id": "ac45adb5",
   "metadata": {},
   "outputs": [],
   "source": [
    "height = 500\n",
    "width = 500"
   ]
  },
  {
   "cell_type": "code",
   "execution_count": null,
   "id": "0acd8b80",
   "metadata": {
    "scrolled": false
   },
   "outputs": [],
   "source": [
    "poly = Polygon()\n",
    "# poly.read_from_pol('instances/agp2008b-simplerand/simple-100-1.pol')\n",
    "poly.read_from_pol('instances/agp2007-minarea/min-8-1.pol')\n",
    "\n",
    "ear_clipping = Ear_clipping(poly)\n",
    "html_string = html_generator.generate_html(ear_clipping)\n",
    "display(HTML(html_string))"
   ]
  },
  {
   "cell_type": "code",
   "execution_count": null,
   "id": "7fe7ea3c",
   "metadata": {
    "scrolled": false
   },
   "outputs": [],
   "source": [
    "# with open('output.txt', 'w') as f:\n",
    "#     print(html_string, file=f)\n",
    "# print(html_string)"
   ]
  },
  {
   "cell_type": "code",
   "execution_count": null,
   "id": "c469832d",
   "metadata": {
    "scrolled": false
   },
   "outputs": [],
   "source": [
    "html_string = html_generator.generate_html(tpoly)\n",
    "with open('output.txt', 'w') as f:\n",
    "    print(html_string, file=f)\n",
    "display(HTML(html_string))"
   ]
  },
  {
   "cell_type": "code",
   "execution_count": null,
   "id": "2802f39a",
   "metadata": {},
   "outputs": [],
   "source": []
  },
  {
   "cell_type": "code",
   "execution_count": null,
   "id": "8a55b644",
   "metadata": {},
   "outputs": [],
   "source": [
    "from frame import clear_frames\n",
    "#clear_frames()"
   ]
  },
  {
   "cell_type": "code",
   "execution_count": null,
   "id": "0ac6d3b7",
   "metadata": {},
   "outputs": [],
   "source": []
  }
 ],
 "metadata": {
  "kernelspec": {
   "display_name": "Python 3 (ipykernel)",
   "language": "python",
   "name": "python3"
  },
  "language_info": {
   "codemirror_mode": {
    "name": "ipython",
    "version": 3
   },
   "file_extension": ".py",
   "mimetype": "text/x-python",
   "name": "python",
   "nbconvert_exporter": "python",
   "pygments_lexer": "ipython3",
   "version": "3.8.10"
  }
 },
 "nbformat": 4,
 "nbformat_minor": 5
}
