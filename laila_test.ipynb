{
 "cells": [
  {
   "cell_type": "code",
   "execution_count": 1,
   "metadata": {},
   "outputs": [],
   "source": [
    "from geometry import in_triangle, Point\n",
    "from polygon import Polygon\n",
    "import plotly.graph_objects as go\n",
    "from ear_clipping import Ear_clipping"
   ]
  },
  {
   "cell_type": "code",
   "execution_count": 2,
   "metadata": {},
   "outputs": [
    {
     "data": {
      "text/plain": [
       "True"
      ]
     },
     "execution_count": 2,
     "metadata": {},
     "output_type": "execute_result"
    }
   ],
   "source": [
    "triangle = [Point(0,0), Point(2,2), Point(2,0)]\n",
    "in_triangle(Point(0,0), triangle)\n",
    "# Point(0,0)"
   ]
  },
  {
   "cell_type": "code",
   "execution_count": 3,
   "metadata": {},
   "outputs": [],
   "source": [
    "# Retorna uma figura do plotly\n",
    "def simple_plot(polygon):\n",
    "    if not isinstance(polygon, Polygon):\n",
    "        raise TypeError(f\"Expected an instance of Polygon, but got {type(polygon).__name__}\")\n",
    "        \n",
    "    x_coords = [point.x for point in polygon.points]\n",
    "    y_coords = [point.y for point in polygon.points]\n",
    "\n",
    "    # Plota os vértices\n",
    "    vertex_trace = go.Scatter(\n",
    "        x=x_coords,\n",
    "        y=y_coords,\n",
    "        mode='markers',\n",
    "        marker=dict(size=10, color='black'),\n",
    "        showlegend=False\n",
    "    )\n",
    "\n",
    "    # Cria cada aresta\n",
    "    edge_traces = []\n",
    "    num_points = len(polygon.points)\n",
    "    for i in range(num_points):\n",
    "        x0 = polygon.points[i].x\n",
    "        y0 = polygon.points[i].y\n",
    "        x1 = polygon.points[(i + 1) % num_points].x\n",
    "        y1 = polygon.points[(i + 1) % num_points].y  \n",
    "        edge_trace = go.Scatter(\n",
    "            x=[x0, x1],\n",
    "            y=[y0, y1],\n",
    "            mode='lines',\n",
    "            line=dict(width=2, color='red'),\n",
    "            showlegend=False  \n",
    "        )\n",
    "        edge_traces.append(edge_trace)\n",
    "        \n",
    "    # Plota vertices + arestas\n",
    "    fig = go.Figure(data=edge_traces + [vertex_trace])\n",
    "        \n",
    "    # Muda o plano de fundo\n",
    "    fig.update_layout(\n",
    "        xaxis=dict(\n",
    "            showline=False, \n",
    "            showgrid=False,\n",
    "            showticklabels=False, \n",
    "            zeroline=False \n",
    "        ),\n",
    "        yaxis=dict(\n",
    "            showline=False,\n",
    "            showgrid=False,\n",
    "            showticklabels=False,\n",
    "            zeroline=False \n",
    "        ),\n",
    "        plot_bgcolor='lightYellow',\n",
    "        paper_bgcolor='lightYellow'\n",
    "    )\n",
    "    \n",
    "    return fig"
   ]
  },
  {
   "cell_type": "code",
   "execution_count": 4,
   "metadata": {},
   "outputs": [],
   "source": [
    "poly = Polygon('input.txt')\n",
    "# fig = simple_plot(poly)\n",
    "# fig.show()"
   ]
  },
  {
   "cell_type": "code",
   "execution_count": 5,
   "metadata": {},
   "outputs": [
    {
     "name": "stdout",
     "output_type": "stream",
     "text": [
      "yes\n",
      "yes\n",
      "0 5\n"
     ]
    },
    {
     "ename": "TypeError",
     "evalue": "expected str, bytes or os.PathLike object, not Point",
     "output_type": "error",
     "traceback": [
      "\u001b[0;31m---------------------------------------------------------------------------\u001b[0m",
      "\u001b[0;31mTypeError\u001b[0m                                 Traceback (most recent call last)",
      "Cell \u001b[0;32mIn[5], line 2\u001b[0m\n\u001b[1;32m      1\u001b[0m ear \u001b[38;5;241m=\u001b[39m Ear_clipping(poly)\n\u001b[0;32m----> 2\u001b[0m \u001b[43mear\u001b[49m\u001b[38;5;241;43m.\u001b[39;49m\u001b[43mtriangulation\u001b[49m\u001b[43m(\u001b[49m\u001b[43m)\u001b[49m\n",
      "File \u001b[0;32m~/ufmg/5sem/alg2/corte-de-orelhas/ear_clipping.py:15\u001b[0m, in \u001b[0;36mEar_clipping.triangulation\u001b[0;34m(self)\u001b[0m\n\u001b[1;32m     13\u001b[0m \u001b[38;5;28mprint\u001b[39m(\u001b[38;5;124m\"\u001b[39m\u001b[38;5;124myes\u001b[39m\u001b[38;5;124m\"\u001b[39m)\n\u001b[1;32m     14\u001b[0m new_points \u001b[38;5;241m=\u001b[39m current_polygon\u001b[38;5;241m.\u001b[39mremove_vertex(i)\n\u001b[0;32m---> 15\u001b[0m current_polygon \u001b[38;5;241m=\u001b[39m \u001b[43mPolygon\u001b[49m\u001b[43m(\u001b[49m\u001b[43mnew_points\u001b[49m\u001b[43m)\u001b[49m\n\u001b[1;32m     16\u001b[0m \u001b[38;5;28mself\u001b[39m\u001b[38;5;241m.\u001b[39mpolygon_list\u001b[38;5;241m.\u001b[39mappend(current_polygon)\n",
      "File \u001b[0;32m~/ufmg/5sem/alg2/corte-de-orelhas/polygon.py:14\u001b[0m, in \u001b[0;36mPolygon.__init__\u001b[0;34m(self, file_name, points)\u001b[0m\n\u001b[1;32m     11\u001b[0m     \u001b[38;5;28mself\u001b[39m\u001b[38;5;241m.\u001b[39mpoints \u001b[38;5;241m=\u001b[39m points\n\u001b[1;32m     13\u001b[0m \u001b[38;5;28;01mif\u001b[39;00m file_name:\n\u001b[0;32m---> 14\u001b[0m     \u001b[38;5;28;43mself\u001b[39;49m\u001b[38;5;241;43m.\u001b[39;49m\u001b[43mread_from_file\u001b[49m\u001b[43m(\u001b[49m\u001b[43mfile_name\u001b[49m\u001b[43m)\u001b[49m\n",
      "File \u001b[0;32m~/ufmg/5sem/alg2/corte-de-orelhas/polygon.py:20\u001b[0m, in \u001b[0;36mPolygon.read_from_file\u001b[0;34m(self, file_name)\u001b[0m\n\u001b[1;32m     18\u001b[0m \u001b[38;5;28;01mdef\u001b[39;00m \u001b[38;5;21mread_from_file\u001b[39m(\u001b[38;5;28mself\u001b[39m, file_name):\n\u001b[1;32m     19\u001b[0m     \u001b[38;5;28mself\u001b[39m\u001b[38;5;241m.\u001b[39mpoints \u001b[38;5;241m=\u001b[39m []\n\u001b[0;32m---> 20\u001b[0m     \u001b[38;5;28;01mwith\u001b[39;00m \u001b[38;5;28;43mopen\u001b[39;49m\u001b[43m(\u001b[49m\u001b[43mfile_name\u001b[49m\u001b[43m,\u001b[49m\u001b[43m \u001b[49m\u001b[38;5;124;43m'\u001b[39;49m\u001b[38;5;124;43mr\u001b[39;49m\u001b[38;5;124;43m'\u001b[39;49m\u001b[43m)\u001b[49m \u001b[38;5;28;01mas\u001b[39;00m file:\n\u001b[1;32m     21\u001b[0m         \u001b[38;5;28mself\u001b[39m\u001b[38;5;241m.\u001b[39msize \u001b[38;5;241m=\u001b[39m \u001b[38;5;28mint\u001b[39m(file\u001b[38;5;241m.\u001b[39mreadline()\u001b[38;5;241m.\u001b[39mstrip())\n\u001b[1;32m     22\u001b[0m         \u001b[38;5;28;01mfor\u001b[39;00m _ \u001b[38;5;129;01min\u001b[39;00m \u001b[38;5;28mrange\u001b[39m(\u001b[38;5;28mself\u001b[39m\u001b[38;5;241m.\u001b[39msize):\n",
      "\u001b[0;31mTypeError\u001b[0m: expected str, bytes or os.PathLike object, not Point"
     ]
    }
   ],
   "source": [
    "ear = Ear_clipping(poly)\n",
    "ear.triangulation()"
   ]
  },
  {
   "cell_type": "code",
   "execution_count": null,
   "metadata": {},
   "outputs": [
    {
     "data": {
      "text/plain": [
       "1"
      ]
     },
     "execution_count": 6,
     "metadata": {},
     "output_type": "execute_result"
    }
   ],
   "source": [
    "polys = ear.get_polygons()\n",
    "len(polys)\n",
    "# for i in range(len(polys)):\n",
    "#     simple_plot(polys[i]).show()"
   ]
  },
  {
   "cell_type": "code",
   "execution_count": null,
   "metadata": {},
   "outputs": [],
   "source": []
  }
 ],
 "metadata": {
  "kernelspec": {
   "display_name": "Python 3",
   "language": "python",
   "name": "python3"
  },
  "language_info": {
   "codemirror_mode": {
    "name": "ipython",
    "version": 3
   },
   "file_extension": ".py",
   "mimetype": "text/x-python",
   "name": "python",
   "nbconvert_exporter": "python",
   "pygments_lexer": "ipython3",
   "version": "3.10.12"
  }
 },
 "nbformat": 4,
 "nbformat_minor": 2
}
