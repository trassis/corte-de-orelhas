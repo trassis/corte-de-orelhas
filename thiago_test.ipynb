{
 "cells": [
  {
   "cell_type": "code",
   "execution_count": 4,
   "id": "c905214d",
   "metadata": {},
   "outputs": [],
   "source": [
    "from polygon import Polygon\n",
    "from ear_clipping import Ear_clipping\n",
    "from coloring import Coloring\n",
    "from IPython.display import display, HTML\n",
    "import html_generator\n",
    "from frameOptions import FrameOptions"
   ]
  },
  {
   "cell_type": "code",
   "execution_count": 5,
   "id": "6b5810c9",
   "metadata": {},
   "outputs": [],
   "source": [
    "width = 600\n",
    "height = 600"
   ]
  },
  {
   "cell_type": "code",
   "execution_count": 6,
   "id": "0acd8b80",
   "metadata": {
    "scrolled": false
   },
   "outputs": [
    {
     "ename": "NameError",
     "evalue": "name 'FrameOptions' is not defined",
     "output_type": "error",
     "traceback": [
      "\u001b[0;31m---------------------------------------------------------------------------\u001b[0m",
      "\u001b[0;31mNameError\u001b[0m                                 Traceback (most recent call last)",
      "Cell \u001b[0;32mIn[6], line 7\u001b[0m\n\u001b[1;32m      5\u001b[0m ear_clipping \u001b[38;5;241m=\u001b[39m Ear_clipping(poly)\n\u001b[1;32m      6\u001b[0m tpoly \u001b[38;5;241m=\u001b[39m ear_clipping\u001b[38;5;241m.\u001b[39mtriangulation()\n\u001b[0;32m----> 7\u001b[0m html_string \u001b[38;5;241m=\u001b[39m \u001b[43mhtml_generator\u001b[49m\u001b[38;5;241;43m.\u001b[39;49m\u001b[43mgenerate_html\u001b[49m\u001b[43m(\u001b[49m\u001b[43mear_clipping\u001b[49m\u001b[43m)\u001b[49m\n\u001b[1;32m      8\u001b[0m display(HTML(html_string))\n",
      "File \u001b[0;32m~/ufmg/5sem/alg2/corte-de-orelhas/html_generator.py:51\u001b[0m, in \u001b[0;36mgenerate_html\u001b[0;34m(to_be_printed)\u001b[0m\n\u001b[1;32m     49\u001b[0m \u001b[38;5;28;01mdef\u001b[39;00m \u001b[38;5;21mgenerate_html\u001b[39m(to_be_printed):\n\u001b[1;32m     50\u001b[0m     \u001b[38;5;28;01mif\u001b[39;00m \u001b[38;5;28misinstance\u001b[39m(to_be_printed, ear_clipping\u001b[38;5;241m.\u001b[39mEar_clipping):\n\u001b[0;32m---> 51\u001b[0m         \u001b[38;5;28;01mreturn\u001b[39;00m \u001b[43m_ear_clipping_html\u001b[49m\u001b[43m(\u001b[49m\u001b[43mto_be_printed\u001b[49m\u001b[43m)\u001b[49m;\n\u001b[1;32m     53\u001b[0m     \u001b[38;5;28;01mif\u001b[39;00m \u001b[38;5;28misinstance\u001b[39m(to_be_printed, tpolygon\u001b[38;5;241m.\u001b[39mTPolygon):\n\u001b[1;32m     54\u001b[0m         \u001b[38;5;28;01mreturn\u001b[39;00m _tpolygon_html(to_be_printed);\n",
      "File \u001b[0;32m~/ufmg/5sem/alg2/corte-de-orelhas/html_generator.py:23\u001b[0m, in \u001b[0;36m_ear_clipping_html\u001b[0;34m(obj)\u001b[0m\n\u001b[1;32m     20\u001b[0m     \u001b[38;5;28;01mwith\u001b[39;00m \u001b[38;5;28mopen\u001b[39m(\u001b[38;5;124mf\u001b[39m\u001b[38;5;124m\"\u001b[39m\u001b[38;5;124m./frames/frame\u001b[39m\u001b[38;5;132;01m{\u001b[39;00mi\u001b[38;5;132;01m}\u001b[39;00m\u001b[38;5;124m.svg\u001b[39m\u001b[38;5;124m\"\u001b[39m, \u001b[38;5;124m\"\u001b[39m\u001b[38;5;124mw\u001b[39m\u001b[38;5;124m\"\u001b[39m) \u001b[38;5;28;01mas\u001b[39;00m file:\n\u001b[1;32m     21\u001b[0m         file\u001b[38;5;241m.\u001b[39mwrite(frame\u001b[38;5;241m.\u001b[39mgenerate_svg())\n\u001b[0;32m---> 23\u001b[0m \u001b[38;5;28;01mreturn\u001b[39;00m _get(\u001b[38;5;28mlen\u001b[39m(obj\u001b[38;5;241m.\u001b[39mframe_list), \u001b[43mFrameOptions\u001b[49m\u001b[38;5;241m.\u001b[39mwidth, FrameOptions\u001b[38;5;241m.\u001b[39mheight)\n",
      "\u001b[0;31mNameError\u001b[0m: name 'FrameOptions' is not defined"
     ]
    }
   ],
   "source": [
    "# poly = Polygon('instances/agp2008b-simplerand/simple-100-1.pol')\n",
    "poly = Polygon('instances/agp2007-minarea/min-10-1.pol')\n",
    "FrameOptions.set(poly, width, height)\n",
    "\n",
    "ear_clipping = Ear_clipping(poly)\n",
    "tpoly = ear_clipping.triangulation()\n",
    "html_string = html_generator.generate_html(ear_clipping)\n",
    "display(HTML(html_string))"
   ]
  },
  {
   "cell_type": "code",
   "execution_count": null,
   "id": "96ba4eb7",
   "metadata": {},
   "outputs": [],
   "source": []
  },
  {
   "cell_type": "code",
   "execution_count": null,
   "id": "8602de49",
   "metadata": {},
   "outputs": [],
   "source": []
  }
 ],
 "metadata": {
  "kernelspec": {
   "display_name": "Python 3 (ipykernel)",
   "language": "python",
   "name": "python3"
  },
  "language_info": {
   "codemirror_mode": {
    "name": "ipython",
    "version": 3
   },
   "file_extension": ".py",
   "mimetype": "text/x-python",
   "name": "python",
   "nbconvert_exporter": "python",
   "pygments_lexer": "ipython3",
   "version": "3.8.10"
  }
 },
 "nbformat": 4,
 "nbformat_minor": 5
}
