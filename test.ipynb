{
 "cells": [
  {
   "cell_type": "code",
   "execution_count": 1,
   "metadata": {},
   "outputs": [
    {
     "ename": "ModuleNotFoundError",
     "evalue": "No module named 'polygon'",
     "output_type": "error",
     "traceback": [
      "\u001b[0;31m---------------------------------------------------------------------------\u001b[0m",
      "\u001b[0;31mModuleNotFoundError\u001b[0m                       Traceback (most recent call last)",
      "Cell \u001b[0;32mIn[1], line 2\u001b[0m\n\u001b[1;32m      1\u001b[0m \u001b[38;5;28;01mimport\u001b[39;00m \u001b[38;5;21;01mplotly\u001b[39;00m\u001b[38;5;21;01m.\u001b[39;00m\u001b[38;5;21;01mgraph_objects\u001b[39;00m \u001b[38;5;28;01mas\u001b[39;00m \u001b[38;5;21;01mgo\u001b[39;00m\n\u001b[0;32m----> 2\u001b[0m \u001b[38;5;28;01mfrom\u001b[39;00m \u001b[38;5;21;01mpolygon\u001b[39;00m \u001b[38;5;28;01mimport\u001b[39;00m Polygon\n",
      "\u001b[0;31mModuleNotFoundError\u001b[0m: No module named 'polygon'"
     ]
    }
   ],
   "source": [
    "import plotly.graph_objects as go\n",
    "from polygon import Polygon"
   ]
  },
  {
   "cell_type": "code",
   "execution_count": null,
   "metadata": {},
   "outputs": [],
   "source": [
    "def simple_plot(polygon):\n",
    "    if not isinstance(polygon, Polygon):\n",
    "        raise TypeError(f\"Expected an instance of Polygon, but got {type(polygon).__name__}\")\n",
    "        \n",
    "    x_coords = [point[0] for point in polygon.points]\n",
    "    y_coords = [point[1] for point in polygon.points]\n",
    "\n",
    "    # Plota os vértices\n",
    "    vertex_trace = go.Scatter(\n",
    "        x=x_coords,\n",
    "        y=y_coords,\n",
    "        mode='markers',\n",
    "        marker=dict(size=10, color='black'),\n",
    "        showlegend=False\n",
    "    )\n",
    "\n",
    "    # Cria cada aresta\n",
    "    edge_traces = []\n",
    "    num_points = len(polygon.points)\n",
    "    for i in range(num_points):\n",
    "        x0, y0 = polygon.points[i]\n",
    "        x1, y1 = polygon.points[(i + 1) % num_points]  \n",
    "        edge_trace = go.Scatter(\n",
    "            x=[x0, x1],\n",
    "            y=[y0, y1],\n",
    "            mode='lines',\n",
    "            line=dict(width=2, color='red'),\n",
    "            showlegend=False  \n",
    "        )\n",
    "        edge_traces.append(edge_trace)\n",
    "        \n",
    "    # Plota vertices + arestas\n",
    "    fig = go.Figure(data=edge_traces + [vertex_trace])\n",
    "        \n",
    "    # Muda o plano de fundo\n",
    "    fig.update_layout(\n",
    "        xaxis=dict(\n",
    "            showline=False, \n",
    "            showgrid=False,\n",
    "            showticklabels=False, \n",
    "            zeroline=False \n",
    "        ),\n",
    "        yaxis=dict(\n",
    "            showline=False,\n",
    "            showgrid=False,\n",
    "            showticklabels=False,\n",
    "            zeroline=False \n",
    "        ),\n",
    "        plot_bgcolor='lightYellow',\n",
    "        paper_bgcolor='lightYellow'\n",
    "    )\n",
    "\n",
    "    fig.show()"
   ]
  },
  {
   "cell_type": "code",
   "execution_count": null,
   "metadata": {},
   "outputs": [],
   "source": [
    "poly = Polygon('input.txt')\n",
    "simple_plot(poly)"
   ]
  },
  {
   "cell_type": "code",
   "execution_count": null,
   "metadata": {},
   "outputs": [],
   "source": []
  },
  {
   "cell_type": "code",
   "execution_count": null,
   "metadata": {},
   "outputs": [],
   "source": []
  }
 ],
 "metadata": {
  "kernelspec": {
   "display_name": "Python 3",
   "language": "python",
   "name": "python3"
  },
  "language_info": {
   "codemirror_mode": {
    "name": "ipython",
    "version": 3
   },
   "file_extension": ".py",
   "mimetype": "text/x-python",
   "name": "python",
   "nbconvert_exporter": "python",
   "pygments_lexer": "ipython3",
   "version": "3.10.12"
  }
 },
 "nbformat": 4,
 "nbformat_minor": 2
}
