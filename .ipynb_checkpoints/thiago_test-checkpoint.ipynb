{
 "cells": [
  {
   "cell_type": "code",
   "execution_count": 6,
   "id": "be4ce62a",
   "metadata": {},
   "outputs": [],
   "source": [
    "from polygon import Polygon\n",
    "from ear_clipping import Ear_clipping\n",
    "from IPython.display import display, HTML"
   ]
  },
  {
   "cell_type": "code",
   "execution_count": 7,
   "id": "5a009ad0",
   "metadata": {
    "scrolled": true
   },
   "outputs": [
    {
     "name": "stdout",
     "output_type": "stream",
     "text": [
      "oi\n",
      "oi\n",
      "oi\n",
      "oi\n",
      "oi\n",
      "oi\n",
      "oi\n"
     ]
    }
   ],
   "source": [
    "poly = Polygon()\n",
    "poly.read_from_pol('instances/agp2007-minarea/min-10-1.pol')\n",
    "\n",
    "ear_clipping = Ear_clipping(poly)\n",
    "ear_clipping.triangulation()"
   ]
  },
  {
   "cell_type": "code",
   "execution_count": 8,
   "id": "4ede875e",
   "metadata": {},
   "outputs": [
    {
     "name": "stdout",
     "output_type": "stream",
     "text": [
      "<!DOCTYPE html>\n",
      "        <html>\n",
      "        <head>\n",
      "            <title>Triangulação de polígonos</title>\n",
      "            <style>\n",
      "                /* CSS styles for the SVG container */\n",
      "                #svgelem {\n",
      "                    border: 1px solid #ccc;\n",
      "                }\n",
      "\n",
      "                /* Additional CSS styles */\n",
      "                .polygon {\n",
      "                    fill: #ada6db; /* Fill color */\n",
      "                    stroke: #2a2a2a; /* Stroke color */\n",
      "                    stroke-width: 2; /* Stroke width */\n",
      "                    stroke-opacity: 1; /* Stroke opacity */\n",
      "                    fill-opacity: 1; /* Fill opacity */\n",
      "                    stroke-linecap: round; /* Stroke linecap */\n",
      "                    stroke-linejoin: round; /* Stroke linejoin */\n",
      "                }\n",
      "\n",
      "                .permanent{\n",
      "                    fill: rgb(178, 178, 198); /* Fill color */\n",
      "                    stroke: #908f8f; /* Stroke color */\n",
      "                    stroke-width: 2; /* Stroke width */\n",
      "                    stroke-opacity: 0.7; /* Stroke opacity */\n",
      "                    fill-opacity: 0.4; /* Fill opacity */\n",
      "                    stroke-linecap: round; /* Stroke linecap */\n",
      "                    stroke-linejoin: round; /* Stroke linejoin */\n",
      "                }\n",
      "\n",
      "\n",
      "                .point {\n",
      "                    fill: #2a2a2a; /* Point color */\n",
      "                    stroke: none; /* No border */\n",
      "                }\n",
      "\n",
      "                .pointer {\n",
      "                    fill: #727374; /* Point color */\n",
      "                    stroke: none; /* No border */\n",
      "                }\n",
      "\n",
      "\n",
      "            </style>\n",
      "            <script>\n",
      "                var svgContent = [\n",
      "                    '<polygon points=\"100,100 150,25 200,100\"/>                      <circle cx=\"100\" cy=\"100\" r=\"3\" fill=\"red\" />                      <circle cx=\"150\" cy=\"25\" r=\"3\" fill=\"red\" />                      <circle cx=\"200\" cy=\"100\" r=\"3\" fill=\"red\" />',\n",
      "                    '<polygon points=\"10,10 20,25 200,100\"/>                      <circle cx=\"10\" cy=\"10\" r=\"3\" fill=\"red\" />                      <circle cx=\"20\" cy=\"25\" r=\"3\" fill=\"red\" />                      <circle cx=\"200\" cy=\"100\" r=\"3\" fill=\"red\" />',\n",
      "                    '<polygon points=\"10,120 200,20 20,300\"/>                      <circle cx=\"10\" cy=\"120\" r=\"3\" fill=\"red\" />                      <circle cx=\"200\" cy=\"20\" r=\"3\" fill=\"red\" />                      <circle cx=\"20\" cy=\"300\" r=\"3\" fill=\"red\" />',\n",
      "                ];\n",
      "\n",
      "                var currentIndex = 0;\n",
      "\n",
      "                function displayPolygon(){\n",
      "                    var svg = document.getElementById('svgelem');\n",
      "                    svg.innerHTML = svgContent[currentIndex];\n",
      "                }\n",
      "\n",
      "                function nextPolygon() {\n",
      "                    currentIndex = (currentIndex + 1) % svgContent.length; // Move to the next polygon circularly\n",
      "                    displayPolygon(); // Display the new polygon\n",
      "                }\n",
      "\n",
      "                function previousPolygon() {\n",
      "                    currentIndex = (currentIndex - 1 + svgContent.length) % svgContent.length; // Move to the previous polygon circularly\n",
      "                    displayPolygon(); // Display the new polygon\n",
      "                }\n",
      "            </script>\n",
      "        </head>\n",
      "        <body>\n",
      "            <h2>Triangulação de polígonos</h2>\n",
      "            <svg id=\"svgelem\" width=\"300\" height=\"300\" xmlns=\"http://www.w3.org/2000/svg\">\n",
      "            </svg>\n",
      "            <br>\n",
      "            <button onclick=\"previousPolygon()\">Previous Polygon</button>\n",
      "            <button onclick=\"nextPolygon()\">Next Polygon</button>\n",
      "            <br>\n",
      "            <p>Current Polygon: <span id=\"currentPolygon\"></span></p>\n",
      "\n",
      "            <script>\n",
      "                // Initial display of the first polygon\n",
      "                displayPolygon();\n",
      "            </script>\n",
      "        </body>\n",
      "        </html>\n"
     ]
    }
   ],
   "source": [
    "html_string = ear_clipping.generate_html()\n",
    "display(HTML(html_string))"
   ]
  },
  {
   "cell_type": "code",
   "execution_count": null,
   "id": "f22d852d",
   "metadata": {},
   "outputs": [],
   "source": []
  }
 ],
 "metadata": {
  "kernelspec": {
   "display_name": "Python 3 (ipykernel)",
   "language": "python",
   "name": "python3"
  },
  "language_info": {
   "codemirror_mode": {
    "name": "ipython",
    "version": 3
   },
   "file_extension": ".py",
   "mimetype": "text/x-python",
   "name": "python",
   "nbconvert_exporter": "python",
   "pygments_lexer": "ipython3",
   "version": "3.8.10"
  }
 },
 "nbformat": 4,
 "nbformat_minor": 5
}
