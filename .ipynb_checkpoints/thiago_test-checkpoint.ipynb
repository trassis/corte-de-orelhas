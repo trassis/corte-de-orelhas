{
 "cells": [
  {
   "cell_type": "code",
   "execution_count": 8,
   "id": "c905214d",
   "metadata": {},
   "outputs": [],
   "source": [
    "from polygon import Polygon\n",
    "from ear_clipping import Ear_clipping\n",
    "from coloring import Coloring\n",
    "from IPython.display import display, HTML\n",
    "import html_generator"
   ]
  },
  {
   "cell_type": "code",
   "execution_count": 9,
   "id": "ac45adb5",
   "metadata": {},
   "outputs": [],
   "source": [
    "height = 500\n",
    "width = 500"
   ]
  },
  {
   "cell_type": "code",
   "execution_count": 10,
   "id": "0acd8b80",
   "metadata": {
    "scrolled": false
   },
   "outputs": [],
   "source": [
    "poly = Polygon()\n",
    "# poly.read_from_pol('instances/agp2008b-simplerand/simple-100-1.pol')\n",
    "poly.read_from_pol('instances/agp2007-minarea/min-8-1.pol')\n",
    "\n",
    "ear_clipping = Ear_clipping(poly, height, width)\n",
    "tpoly = ear_clipping.triangulation()"
   ]
  },
  {
   "cell_type": "code",
   "execution_count": 11,
   "id": "7fe7ea3c",
   "metadata": {
    "scrolled": false
   },
   "outputs": [],
   "source": [
    "# html_string = html_generator.generate_html(ear_clipping)\n",
    "# with open('output.txt', 'w') as f:\n",
    "#     print(html_string, file=f)\n",
    "# print(html_string)\n",
    "# display(HTML(html_string))"
   ]
  },
  {
   "cell_type": "code",
   "execution_count": 13,
   "id": "c469832d",
   "metadata": {},
   "outputs": [],
   "source": [
    "html_string = html_generator.generate_html(tpoly)\n",
    "display(HTML(html_string))"
   ]
  },
  {
   "cell_type": "code",
   "execution_count": 6,
   "id": "8a55b644",
   "metadata": {},
   "outputs": [],
   "source": [
    "from frame import clear_frames\n",
    "#clear_frames()"
   ]
  }
 ],
 "metadata": {
  "kernelspec": {
   "display_name": "Python 3 (ipykernel)",
   "language": "python",
   "name": "python3"
  },
  "language_info": {
   "codemirror_mode": {
    "name": "ipython",
    "version": 3
   },
   "file_extension": ".py",
   "mimetype": "text/x-python",
   "name": "python",
   "nbconvert_exporter": "python",
   "pygments_lexer": "ipython3",
   "version": "3.8.10"
  }
 },
 "nbformat": 4,
 "nbformat_minor": 5
}
